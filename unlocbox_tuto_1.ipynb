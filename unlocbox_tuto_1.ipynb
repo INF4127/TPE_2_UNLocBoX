{
 "cells": [
  {
   "cell_type": "markdown",
   "id": "1188cce9-9d9a-4944-afd2-fde3a694880d",
   "metadata": {},
   "source": [
    "<h1>Tutoriel : Installation et utilisation de <span style = \"color: blue;\">UNLocBoX</span> sur MATLAB</h1>"
   ]
  },
  {
   "cell_type": "markdown",
   "id": "4d4bb001-160e-4e86-80a0-bce5878dd3db",
   "metadata": {},
   "source": [
    "<h2>I - INTRODUCTION</h2>"
   ]
  },
  {
   "cell_type": "markdown",
   "id": "5adad7b2-49e1-41d2-b05b-d3145331bc11",
   "metadata": {},
   "source": [
    "  De nos jours, la tendance pour résoudre les problèmes d'optimisation est d'utiliser des algorithmes spécifiques plutôt que des méthodes très générales. UNLocBoX fournit un cadre général permettant à l'utilisateur de concevoir ses propres algorithmes. Pour ce faire, le cadre tente de rester aussi proche que possible du problème mathématique. UNLocBoX est une boîte à outils MATLAB conçue pour résoudre des problèmes d'optimisation convexe.\n",
    "  \n",
    "UNLocBoX apparait pour resoudre le dilemme de <strong>\"J'ai besoin d'un algorithme specifique pour resoudre mon probleme mais, je n'ai pas envie de passer des heures à l'écrire\"</strong>.  \n",
    "\n",
    "Plus précisément UNLocBoX sert a resoudre les problème d'optimisation convexe de la forme\n",
    "\n",
    "$$\\min_{x \\in C} \\sum_{n=1}^{K}f_n(x)$$\n",
    "utilisant des techniques de décomposition proximale. Il se compose principalement de solveurs, d'opérateurs proximaux et de fichiers de démonstration, permettant à l'utilisateur d'implémenter rapidement un problème."
   ]
  },
  {
   "cell_type": "markdown",
   "id": "a1d8f6a8-564a-4ce6-9e88-9028802fe5c8",
   "metadata": {},
   "source": [
    "<h2>II - Guide d'intallation</h2>"
   ]
  },
  {
   "cell_type": "markdown",
   "id": "bf5e1571-0790-4b06-a513-ad78610ffbd0",
   "metadata": {},
   "source": [
    "<h3>Prerequis</h3>\n",
    "<ul>\n",
    "    <li>Avoir MATLAB deja installé</li>\n",
    "</ul>\n",
    "<h3>Installation</h3>\n",
    "<ol>\n",
    "    <li>Telecharger la derniere version de UNLocBoX pour votre systeme sur <a href=\"https://lts2.epfl.ch/unlocbox/download.php\">https://lts2.epfl.ch/unlocbox/download.php</a></li>\n",
    "    <li>Extraire l'archive dans le repertoire de votre choix</li>\n",
    "    <li>Ajouter le dossier au path MATLAB : addpath(genpath('/chemin/vers/UNLocBoX')) et sauvegarder avc savepath</li>\n",
    "    <li>Enfin, pour démarrer la boîte à outils, exécutez simplement la fonction init_unlocbox.m à la racine du répertoire UNLocBoX</li>\n",
    "</ol>"
   ]
  },
  {
   "cell_type": "markdown",
   "id": "2df83e39-c5ab-4e3e-8112-4f46e461da96",
   "metadata": {},
   "source": [
    "<h2>III - Utilisation de UNLocBoX</h2>"
   ]
  },
  {
   "cell_type": "markdown",
   "id": "0e67bae2-dd31-4fdf-982a-38c1427bcb41",
   "metadata": {},
   "source": [
    "<h3>a - Proximaux elementaires</h3>\n",
    "\n",
    "Définition : pour une fonction convexe propre $f : R^n → R ∪ {+∞}$  et un paramètre  $τ > 0$, le prox de f à l’échelle τ est : $prox_{τ f}(x) = argmin_y (1/2) ||y − x||_2^2 + τ f(y)$.\n",
    "<p>Prox de la norme l1 (sparsité) : $prox_{λ||·||1}(x) = soft-thresholding(x, λ)$</p>\n",
    "<p>Prox de la donnée l2 (term de fidélité quadratique) : $prox_{μ/2||x-y||^2}(x) = (x + μ y)/(1+μ)$</p>"
   ]
  },
  {
   "cell_type": "code",
   "execution_count": 1,
   "id": "363c4746-07dc-4bc2-a779-1a76ac777e11",
   "metadata": {},
   "outputs": [
    {
     "name": "stdout",
     "output_type": "stream",
     "text": [
      "UnLocBoX version 1.7.5. Copyright 2012-2015 LTS2-EPFL, by Nathanael Perraudin\n",
      "  prox_L1: ||A x-y||_1 = 2.720000e+00, REL_OB, iter = 2\n",
      "  prox_L2: ||w (A x- y) ||_2^2 = 4.080000e+00, REL_OB, iter = 1\n"
     ]
    }
   ],
   "source": [
    "init_unlocbox\n",
    "z = [-2; 0.5; 3; -0.1];\n",
    "lambda = 0.8;\n",
    "\n",
    "%  prox_l1 :\n",
    "x = prox_l1(z, lambda);\n",
    "y = prox_l2(z, lambda);"
   ]
  },
  {
   "cell_type": "markdown",
   "id": "918d10e7-f5d7-411d-b491-a9ca2beecd7d",
   "metadata": {},
   "source": [
    "<h3>b - solvers</h3>\n",
    "UNLocBoX est composé de plusieurs Solveurs catégorisé en 2 groupes.\n",
    "<ul>\n",
    "    <li>Les solveurs qui minimise seulement 2 fonctions (Forward backward, Douglas Rachford,ADMM,...)</li>\n",
    "    <li>Les solveurs plus generaux mais moins efficients (Generalized forward backward, PPXA, SDMM,...)</li>\n",
    "</ul>"
   ]
  },
  {
   "cell_type": "markdown",
   "id": "86f7e113-de9b-4146-ad6e-d2e50b388c3f",
   "metadata": {},
   "source": [
    "<h4>Exemple avec un solveur qui minimise 2 fonctions</h4>\n",
    "\n",
    "Cherchons a minimiser la somme des fonctions :\n",
    "\n",
    "$f_1(x) = \\frac{1}{2}|A x - b|_2^2$  (differentiable)\n",
    "\n",
    "$f_2(x) = \\lambda|x|_1$  (non différentiable, mais proximale connue)\n",
    "\n",
    "1. On commence par creer des donnees"
   ]
  },
  {
   "cell_type": "code",
   "execution_count": 2,
   "id": "652a8d2b-90f5-4e89-bb6a-293cd9a1658e",
   "metadata": {},
   "outputs": [],
   "source": [
    "n = 50;  % taille du vecteur inconnu x\n",
    "m = 30;  % nombre de mesures\n",
    "\n",
    "A = randn(m, n);\n",
    "x_true = sprandn(n, 1, 0.2);      % vecteur vrai, creux\n",
    "b = A * x_true + 0.01 * randn(m,1); % données bruitées"
   ]
  },
  {
   "cell_type": "markdown",
   "id": "57577185-4315-4ddc-bc2c-51b34f5b2200",
   "metadata": {},
   "source": [
    "2. Ensuite on defini les fonctions $f_1(x)$ et $f_2(x)$"
   ]
  },
  {
   "cell_type": "code",
   "execution_count": 3,
   "id": "967bfbf7-cfc7-42b8-b335-6c74b5958404",
   "metadata": {},
   "outputs": [],
   "source": [
    "% f1(x) = 0.5 * ||A*x - b||_2^2\n",
    "f1.grad = @(x) A' * (A*x - b);           % gradient\n",
    "f1.eval = @(x) 0.5 * norm(A*x - b)^2;    % valeur\n",
    "f1.beta = norm(A)^2;                     % Lipschitz constant\n",
    "\n",
    "% f2(x) = lambda * ||x||_1\n",
    "lambda = 0.1;\n",
    "f2.prox = @(x, T) soft_thresh(x, lambda*T);\n",
    "f2.eval = @(x) lambda * norm(x, 1);"
   ]
  },
  {
   "cell_type": "markdown",
   "id": "1ae0ffb3-217f-4ffe-b57f-367408b159bc",
   "metadata": {},
   "source": [
    "3. On parametre et on lance le solveur\n",
    "\n",
    "   <b>param.verbose = x;</b>\n",
    "   \n",
    "        → Contrôle le niveau d’affichage des informations pendant les itérations.\n",
    "   \n",
    "                           x = 0   → Aucune sortie (mode silencieux)\n",
    "   \n",
    "                           x = 1   → Affiche des infos de base à chaque itération (par défaut)\n",
    "   \n",
    "                           x = 2   → Affiche plus de détails (valeurs des fonctions, convergence, etc.)\n",
    "   \n",
    "\n",
    "    <b>param.maxit</b> : Ca correspond au nombre maximal d'iterations.\n",
    "   \n",
    "    <b>param.tol</b> : Correspond à la tolérance sur le critère d’arrêt (la précision demandée).\n",
    "   \n",
    "    <b>param.gamma</b> : C'est le pas du gradient (step size) pour la partie différentiable.\n",
    "   \n",
    "   Ces paramètres contrôlent le comportement du solveur dans UNLocBoX (et plus largement dans les algorithmes de minimisation itératifs).\n",
    "   \n",
    "   <b>NB :</b> Dans notre cas, la fonction <b>solvep</b> de UNLocBoX utilise automatiquement le solveur Forward_backward car une fonction est differentiable et l'autre non"
   ]
  },
  {
   "cell_type": "code",
   "execution_count": 4,
   "id": "c79c74d4-8391-4536-8f04-f358108342de",
   "metadata": {},
   "outputs": [
    {
     "name": "stdout",
     "output_type": "stream",
     "text": [
      "The time step is set manually to : 0.00621317\n",
      "FORWARD_BACKWARD  f(x^*) = 1.203101e+00, rel_eval = 1.343277e-03, it = 200, MAX_IT\n"
     ]
    }
   ],
   "source": [
    "% -------------------------\n",
    "% Fonction utilitaire\n",
    "% -------------------------\n",
    "function y = soft_thresh(x, T)\n",
    "    y = sign(x) .* max(abs(x) - T, 0);\n",
    "end\n",
    "% -------------------------\n",
    "%  Paramètres du solveur\n",
    "% -------------------------\n",
    "param.verbose = 1;\n",
    "param.maxit = 200;\n",
    "param.tol = 1e-6;\n",
    "param.gamma = 1 / f1.beta;\n",
    "\n",
    "x0 = zeros(n,1);  % point de départ !\n",
    "\n",
    "% -------------------------\n",
    "%  Lancement du solveur\n",
    "% -------------------------\n",
    "[x_est, info] = solvep(x0, {f1, f2}, param);"
   ]
  },
  {
   "cell_type": "code",
   "execution_count": 5,
   "id": "bf816fec-ad43-4982-9e1f-d3a450d875ae",
   "metadata": {},
   "outputs": [
    {
     "data": {
      "image/png": "[encoded data removed]"
     },
     "execution_count": 5,
     "metadata": {},
     "output_type": "execute_result"
    }
   ],
   "source": [
    "% -------------------------\n",
    "% Affichage\n",
    "% -------------------------\n",
    "figure;\n",
    "stem(x_true, 'b', 'DisplayName', 'x vrai'); hold on;\n",
    "stem(x_est, 'r', 'DisplayName', 'x estimé');\n",
    "legend; grid on;\n",
    "title('Résultat de la minimisation avec Forward-Backward');\n",
    "\n",
    "\n"
   ]
  },
  {
   "cell_type": "markdown",
   "id": "fd6ffcc9-4cea-4271-a707-b566c4eb6e2b",
   "metadata": {},
   "source": [
    "<h4>Exemple avec un solveur plus generique</h4>\n",
    "\n",
    "Cherchons a minimiser la somme des fonctions :\n",
    "\n",
    "$f_1(x) = \\frac{1}{2}|A x - b|_2^2$  (differentiable)\n",
    "\n",
    "$f_2(x) = \\lambda|x|_1$  (proximale l1)\n",
    "\n",
    "$f_3(x) = \\lambda|x|_2^2$  (proximale l2)\n",
    "\n",
    "On commence par la creation des donnees et la definitions des fonctions"
   ]
  },
  {
   "cell_type": "code",
   "execution_count": 6,
   "id": "53812e7d-34e6-407c-80d6-08c43bc6a373",
   "metadata": {},
   "outputs": [],
   "source": [
    "% 1. Création des données\n",
    "% -------------------------\n",
    "n = 50;  % taille du vecteur inconnu x\n",
    "m = 30;  % nombre de mesures\n",
    "\n",
    "A = randn(m, n);\n",
    "x_true = sprandn(n, 1, 0.2);      % vecteur vrai, creux\n",
    "b = A*x_true + 0.01*randn(m,1);   % données bruitées\n",
    "\n",
    "% 2. Définition des fonctions\n",
    "% -------------------------\n",
    "\n",
    "% f1(x) = 1/2 * ||A*x - b||_2^2  (différentiable)\n",
    "f1.grad = @(x) A'*(A*x - b);\n",
    "f1.eval = @(x) 0.5*norm(A*x - b)^2;\n",
    "f1.beta = norm(A)^2;  % constante Lipschitz\n",
    "\n",
    "% f2(x) = lambda1 * ||x||_1  (proximal)\n",
    "lambda1 = 0.1;\n",
    "f2.prox = @(x,T) soft_thresh(x, lambda1*T);\n",
    "f2.eval = @(x) lambda1*norm(x,1);\n",
    "\n",
    "% f3(x) = lambda2 * ||x||_2^2  (proximal simple)\n",
    "lambda2 = 0.05;\n",
    "f3.prox = @(x,T) x / (1 + 2*lambda2*T);  % formule analytique du prox\n",
    "f3.eval = @(x) lambda2*norm(x)^2;"
   ]
  },
  {
   "cell_type": "markdown",
   "id": "bf116a7d-596e-477e-a2c7-5a61c0a83e6c",
   "metadata": {},
   "source": [
    "Ensuite on parametre le solveur avant de le lancer"
   ]
  },
  {
   "cell_type": "code",
   "execution_count": 7,
   "id": "9080d195-d306-4687-8c2d-0702488b5742",
   "metadata": {},
   "outputs": [
    {
     "name": "stdout",
     "output_type": "stream",
     "text": [
      "The time step is set manually to : 0.00805115\n",
      "FB_BASED_PRIMAL_DUAL   Rel primal: 1.096354e-03, rel dual 1.094634e-03, it = 200, MAX_IT\n"
     ]
    }
   ],
   "source": [
    "% Fonction utilitaire : soft-thresholding\n",
    "% -------------------------\n",
    "function y = soft_thresh(x,T)\n",
    "    y = sign(x).*max(abs(x)-T,0);\n",
    "end\n",
    "\n",
    "% 3. Paramètres du solveur\n",
    "% -------------------------\n",
    "param.verbose = 1;          % afficher la convergence\n",
    "param.maxit = 200;          % nombre max d'itérations\n",
    "param.tol = 1e-6;           % tolérance pour arrêter\n",
    "param.gamma = 1/f1.beta;    % pas du gradient (Forward step)\n",
    "\n",
    "x0 = zeros(n,1);            % point initial\n",
    "\n",
    "% 4. Lancer le solveur GFB\n",
    "% -------------------------\n",
    "% Ici, on utilise solvep avec 'gfb'(selectionner automatiquement) qui accepte plusieurs fonctions proximales\n",
    "[x_est, info] = solvep(x0, {f1, f2, f3}, param);"
   ]
  },
  {
   "cell_type": "code",
   "execution_count": 8,
   "id": "41d17ef2-efcd-4720-abf8-ffb0270c50b5",
   "metadata": {},
   "outputs": [
    {
     "data": {
      "image/png": "[encoded data removed]"
     },
     "execution_count": 8,
     "metadata": {},
     "output_type": "execute_result"
    }
   ],
   "source": [
    "% 5. Affichage des résultats\n",
    "% -------------------------\n",
    "figure;\n",
    "stem(x_true, 'b', 'DisplayName', 'x vrai'); hold on;\n",
    "stem(x_est, 'r', 'DisplayName', 'x estimé');\n",
    "legend; grid on;\n",
    "title('Résultat avec Generalised Forward-Backward (GFB)');"
   ]
  },
  {
   "cell_type": "code",
   "execution_count": null,
   "id": "195f120f-b9c0-495e-ab95-c2443531283e",
   "metadata": {},
   "outputs": [],
   "source": []
  }
 ],
 "metadata": {
  "kernelspec": {
   "display_name": "MATLAB Kernel",
   "language": "matlab",
   "name": "jupyter_matlab_kernel"
  },
  "language_info": {
   "file_extension": ".m",
   "mimetype": "text/x-matlab",
   "name": "matlab"
  }
 },
 "nbformat": 4,
 "nbformat_minor": 5
}
