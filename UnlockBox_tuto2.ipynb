{
 "cells": [
  {
   "cell_type": "markdown",
   "id": "e3171390-bc6d-4aec-a2a3-b885a17cefd0",
   "metadata": {},
   "source": [
    "# 📘 Tutoriel Détaillé UNLOCBOX : La Puissance de l'Optimisation Convexe Proximal"
   ]
  },
  {
   "cell_type": "markdown",
   "id": "529c36e4-dd7b-4b69-8a36-6d65d15313f7",
   "metadata": {},
   "source": [
    "Ce Notebook interactif MATLAB (Live Script) est conçu pour les utilisateurs souhaitant appliquer l'**Optimisation Convexe** à des problèmes d'ingénierie ou d'analyse de données, en utilisant la boîte à outils **UNLocBoX**. Nous allons explorer le concept clé de l'**Opérateur Proximal** et l'appliquer au problème fondamental de la **Régression *Fused Lasso***.\n",
    "\n",
    "## 1\\. Concepts Fondamentaux de l'Optimisation Convexe\n",
    "\n",
    "### 1.1. Pourquoi l'Optimisation Convexe ? \n",
    "\n",
    "L'optimisation convexe est une branche de l'optimisation mathématique où l'on minimise une fonction objectif convexe sur un ensemble de contraintes convexe. La propriété cruciale est que **tout minimum local est un minimum global**, garantissant que nos algorithmes trouvent la meilleure solution possible (pour peu qu'une solution existe).\n",
    "\n",
    "### 1.2. Le Principe du *Proximal Splitting* \n",
    "\n",
    "Lorsque la fonction objectif $f(x)$ peut être décomposée en une somme de termes $f(x) = f_1(x) + f_2(x) + \\dots + f_K(x)$, les méthodes classiques de gradient peuvent être inefficaces ou impossibles à appliquer si certains termes $f_n$ sont **non-différentiables** (par exemple, la norme $l_1$, souvent utilisée pour l'induction de parcimonie).\n",
    "\n",
    "Le *proximal splitting* contourne cela en traitant chaque terme séparément.\n",
    "\n",
    "| Type de Fonction | Caractéristique | Outil Requis pour UNLocBoX |\n",
    "| :--- | :--- | :--- |\n",
    "| **Lisse** (*Smooth*) | Différentiable | **Gradient** $\\nabla f_n(x)$ et **Constante de Lipschitz** $\\beta$ |\n",
    "| **Non-Lisse** (*Nonsmooth*) | Non-différentiable | **Opérateur Proximal** $prox_{\\lambda f_n}(x)$ |\n"
   ]
  },
  {
   "cell_type": "markdown",
   "id": "2005b53b-b971-4486-b57f-125c28452f00",
   "metadata": {},
   "source": [
    "\n",
    "## 2\\. Installation et Initialisation d'UNLocBoX\n",
    "\n",
    "### 2.1. Préparation de l'Environnement \n",
    "\n",
    "Commencez par ajouter le chemin d'UNLocBoX à votre session MATLAB et exécutez le script d'initialisation."
   ]
  },
  {
   "cell_type": "code",
   "execution_count": 1,
   "id": "da58f2fe-e253-4e17-9c09-dbd4979181bf",
   "metadata": {},
   "outputs": [
    {
     "name": "stdout",
     "output_type": "stream",
     "text": [
      "UnLocBoX version 1.8.0. Copyright 2012-2015 LTS2-EPFL, by Nathanael Perraudin\n",
      " UNLocBoX a été initialisé. Nous sommes prêts à résoudre des problèmes d'optimisation.\n"
     ]
    }
   ],
   "source": [
    "\n",
    "% Assurez-vous d'avoir téléchargé UNLocBoX (souvent nommé unlocbox-master)\n",
    "% Naviguez dans le répertoire racine d'UNLocBoX.\n",
    "\n",
    "% 1. Ajout du chemin (remplacez par votre chemin réel)\n",
    "addpath(genpath('./unlocbox-master')); \n",
    "\n",
    "% 2. Initialisation de la boîte à outils\n",
    "init_unlocbox;\n",
    "\n",
    "disp(' UNLocBoX a été initialisé. Nous sommes prêts à résoudre des problèmes d''optimisation.');\n"
   ]
  },
  {
   "cell_type": "markdown",
   "id": "8a3ded2d-dd60-4de0-91ff-bbf9653e0d44",
   "metadata": {},
   "source": [
    "## 3\\. Le Cas d'Étude : La Régression Fused Lasso\n",
    "\n",
    "Nous allons résoudre le problème de la **Régression *Fused Lasso***, qui est idéal pour illustrer le *proximal splitting* car il comporte trois termes :\n",
    "\n",
    "$$\\min_{x} \\underbrace{\\frac{1}{2}||Ax-y||_{2}^{2}}_{f_{1}(x)} + \\underbrace{\\lambda_1 ||x||_{1}}_{f_{2}(x)} + \\underbrace{\\lambda_2 ||Dx||_{1}}_{f_{3}(x)}$$\n",
    "\n",
    "Où :\n",
    "\n",
    "  * $f_1(x)$ est le terme d'ajustement aux données (lisse).\n",
    "  * $f_2(x)$ est la régularisation **Lasso** (induit la parcimonie, non-lisse).\n",
    "  * $f_3(x)$ est la régularisation ***Fused*** (induit la parcimonie des différences, non-lisse).\n",
    "  * $D$ est la matrice de différence finie, et $\\lambda_1, \\lambda_2$ sont les coefficients de pondération.\n",
    "\n",
    "### 3.1. Simulation des Données \n",
    "\n",
    "Générons des données synthétiques pour notre problème de régression."
   ]
  },
  {
   "cell_type": "code",
   "execution_count": 2,
   "id": "50019faf-2691-4882-8472-3e61fdce8cfd",
   "metadata": {},
   "outputs": [
    {
     "name": "stdout",
     "output_type": "stream",
     "text": [
      "Taille du problème: N = 100, M = 50\n"
     ]
    }
   ],
   "source": [
    "% 1. Définition des dimensions et des paramètres\n",
    "N = 100; % Longueur du signal (nombre de variables)\n",
    "M = 50;  % Nombre d'observations\n",
    "lambda1 = 0.5; % Poids du terme Lasso\n",
    "lambda2 = 1.5; % Poids du terme Fused Lasso\n",
    "\n",
    "% 2. Création de la matrice de mesure (A)\n",
    "A = randn(M, N);\n",
    "A = A ./ norm(A); % Normalisation\n",
    "\n",
    "% 3. Création du signal vrai (sparse et parcimonieux en différences)\n",
    "x_true = zeros(N, 1);\n",
    "x_true(20:40) = 5;\n",
    "x_true(60:80) = -3; \n",
    "y = A * x_true + 0.1 * randn(M, 1); % Observation bruitée\n",
    "\n",
    "% 4. Matrice de différence finie (D)\n",
    "D = spdiags([-ones(N, 1) ones(N, 1)], [0 1], N-1, N); % D*x approxime la dérivée\n",
    "\n",
    "% 5. Point d'initialisation\n",
    "x0 = zeros(N, 1); \n",
    "\n",
    "disp(['Taille du problème: N = ', num2str(N), ', M = ', num2str(M)]);"
   ]
  },
  {
   "cell_type": "markdown",
   "id": "8f3c5d2b-cf82-4b39-b4a6-e47144cd0c30",
   "metadata": {},
   "source": [
    "\n",
    "### 3.2. Définition de la Fonction Lisse $f_1(x)$ \n",
    "\n",
    "La fonction $f_1(x) = \\frac{1}{2}||Ax-y||_{2}^{2}$ est quadratique.\n",
    "\n",
    "#### 3.2.1. Calcul de la Constante de Lipschitz ($\\beta$) \n",
    "\n",
    "Pour les fonctions lisses, l'algorithme *Forward-Backward* (FISTA) nécessite la constante de Lipschitz du gradient.\n",
    "$$\\beta = \\text{Lipschitz}(\\nabla f_1) = ||\\nabla^2 f_1||_2 = ||A^T A||_2 = ||A||_2^2$$"
   ]
  },
  {
   "cell_type": "code",
   "execution_count": 3,
   "id": "a4cb3ae8-b2a7-42b7-9dd4-d884a92f5c4a",
   "metadata": {},
   "outputs": [
    {
     "name": "stdout",
     "output_type": "stream",
     "text": [
      "Détails f1: eval, grad, beta définis.\n"
     ]
    }
   ],
   "source": [
    "\n",
    "% Structure pour la fonction Lisse f1\n",
    "f1.eval = @(x) 0.5 * norm(A*x - y)^2;\n",
    "f1.grad = @(x) A' * (A*x - y);\n",
    "f1.beta = norm(A)^2; % Calcul de la constante de Lipschitz\n",
    "f1.name = 'Data Fidelity (L2 squared)';\n",
    "\n",
    "disp('Détails f1: eval, grad, beta définis.');"
   ]
  },
  {
   "cell_type": "markdown",
   "id": "2610ef83-14f2-4e81-8a36-c4365b6674dc",
   "metadata": {},
   "source": [
    "\n",
    "### 3.3. Définition de la Régularisation Lasso $f_2(x)$ \n",
    "\n",
    "$f_2(x) = \\lambda_1 ||x||_{1}$ est non-lisse. Nous devons utiliser l'opérateur proximal `prox_l1`.\n",
    "\n",
    "#### 3.3.1. L'Opérateur Proximal $\\text{prox}_{\\tau \\lambda_1 ||\\cdot||_1}$ \n",
    "\n",
    "L'opérateur proximal de $\\lambda_1 ||\\cdot||_1$ est la fonction de **seuil souple** (*Soft Thresholding*), essentielle pour l'induction de parcimonie.\n"
   ]
  },
  {
   "cell_type": "code",
   "execution_count": 4,
   "id": "07ddb662-666a-472a-b760-274ec321d4f8",
   "metadata": {},
   "outputs": [
    {
     "name": "stdout",
     "output_type": "stream",
     "text": [
      "Détails f2: eval, prox (Soft Thresholding) définis.\n"
     ]
    }
   ],
   "source": [
    "\n",
    "% Structure pour la fonction Non-Lisse f2 (Lasso)\n",
    "f2.eval = @(x) lambda1 * norm(x, 1);\n",
    "% L'opérateur prox_l1 prend x, et le pas de temps T (tau) qui est multiplié par lambda1\n",
    "f2.prox = @(x, T) prox_l1(x, T * lambda1); \n",
    "f2.name = 'Lasso Regularization (L1)';\n",
    "\n",
    "disp('Détails f2: eval, prox (Soft Thresholding) définis.');"
   ]
  },
  {
   "cell_type": "markdown",
   "id": "ae76cd16-1685-41d1-92d7-ddc46df9e64f",
   "metadata": {},
   "source": [
    "### 3.4. Définition de la Régularisation Fused Lasso $f_3(x)$ \n",
    "\n",
    "$f_3(x) = \\lambda_2 ||Dx||_{1}$ est aussi non-lisse. UNLocBoX gère cela avec l'opérateur proximal `prox_l1` appliqué dans l'espace des différences.\n"
   ]
  },
  {
   "cell_type": "code",
   "execution_count": 5,
   "id": "8201b4d2-d874-452a-bd30-5a98a4097894",
   "metadata": {},
   "outputs": [
    {
     "name": "stdout",
     "output_type": "stream",
     "text": [
      "Détails f3: eval, prox (l1 sur opérateur linéaire) définis.\n"
     ]
    }
   ],
   "source": [
    "% Structure pour la fonction Non-Lisse f3 (Fused Lasso)\n",
    "f3.eval = @(x) lambda2 * norm(D*x, 1);\n",
    "\n",
    "% Pour appliquer prox_l1 à D*x, nous devons utiliser un opérateur de projection\n",
    "% prox_l1_linop, qui est un opérateur proximal avancé pour les fonctions de la forme f(L*x).\n",
    "% Nous devons définir l'opérateur linéaire (L=D) et son adjoint (D')\n",
    "param_fl.A = D;     % L'opérateur linéaire\n",
    "param_fl.At = D';   % Son adjoint (transposée)\n",
    "\n",
    "% Le prox_l1_linop utilise le pas de temps T pour l'algorithme ADMM ou Douglas-Rachford.\n",
    "f3.prox = @(x, T) prox_l1_linop(x, T * lambda2, param_fl); \n",
    "f3.name = 'Fused Lasso Regularization (L1 on differences)';\n",
    "\n",
    "disp('Détails f3: eval, prox (l1 sur opérateur linéaire) définis.');"
   ]
  },
  {
   "cell_type": "markdown",
   "id": "46323aad-2845-4490-a16a-295bbffab18e",
   "metadata": {},
   "source": [
    "## 4\\. Choix du Solveur et Résolution\n",
    "\n",
    "Le problème a la forme $f_1(x) + f_2(x) + f_3(x)$, soit une fonction lisse ($f_1$) plus deux fonctions non-lisses ($f_2$ et $f_3$).\n",
    "\n",
    "  * **Solveurs adaptés :**\n",
    "      * **Douglas-Rachford (DR) :** Excellent pour les sommes de deux fonctions non-lisses. Nécessite de grouper $f_1+f_2$ (lisse + non-lisse) ou $f_2+f_3$ (non-lisse + non-lisse).\n",
    "      * **Forward-Backward (FISTA) :** Idéal pour $f_{\\text{lisse}} + f_{\\text{non-lisse}}$.\n",
    "\n",
    "Puisque nous avons trois termes, nous utiliserons la fonction générique `solvep` qui choisira le meilleur algorithme (souvent une version du **Douglas-Rachford** ou du **SDMM** qui gère la somme de trois prox).\n",
    "\n",
    "### 4.1. Paramétrage Général \n",
    "\n",
    "Définissons les paramètres pour tous les solveurs."
   ]
  },
  {
   "cell_type": "code",
   "execution_count": 6,
   "id": "341afd9f-e70a-47cd-b886-c7537f9e851b",
   "metadata": {},
   "outputs": [
    {
     "name": "stdout",
     "output_type": "stream",
     "text": [
      "Paramètres du solveur définis. Résolution en cours...\n"
     ]
    }
   ],
   "source": [
    "param.verbose = 2; % Afficher les informations détaillées\n",
    "param.maxit = 2000; % Augmentation des itérations pour la convergence\n",
    "param.tol = 1e-4; % Tolérance d'arrêt\n",
    "param.method = 'solvep'; % Utilisation du solveur universel\n",
    "\n",
    "% 💡 Plugin de monitoring (Optionnel : pour afficher les résultats en cours de route)\n",
    "fig = figure(1);\n",
    "param.do_sol = @(x) plot(x_true, 'b', x, 'r--', 'LineWidth', 1.5);\n",
    "param.rel_obj = 1; % Calculer la différence relative entre les itérations\n",
    "\n",
    "disp('Paramètres du solveur définis. Résolution en cours...');"
   ]
  },
  {
   "cell_type": "markdown",
   "id": "1e5d84f4-b1ac-4ee3-b802-f5b18e9bfdd9",
   "metadata": {},
   "source": [
    "\n",
    "### 4.2. Exécution et Résultats \n",
    "\n",
    "Lançons l'optimisation en passant l'ensemble des structures au solveur `solvep`."
   ]
  },
  {
   "cell_type": "code",
   "execution_count": 7,
   "id": "dbf7aa20-d11e-42cb-bbd9-e6d21be4730e",
   "metadata": {},
   "outputs": [
    {
     "name": "stdout",
     "output_type": "stream",
     "text": [
      "A function has both the prox and a grad fields. The gradient is used\n",
      "Algorithm selected: FB_BASED_PRIMAL_DUAL \n",
      "Iter 001:     prox_L1: ||A x-y||_1 = 1.021061e+01, REL_OB, iter = 2\n"
     ]
    },
    {
     "name": "stderr",
     "output_type": "stream",
     "text": [
      "Error using fb_based_primal_dual_alg>fb_based_primal_dual_algorithm (line 158)\n",
      "Unknown method\n",
      "\n",
      "Error in fb_based_primal_dual_alg>@(x_0,fg,Fp,sol,s,param)fb_based_primal_dual_algorithm(fg,Fp,sol,s,param) (line 21)\n",
      "    fb_based_primal_dual_algorithm(fg, Fp, sol, s, param);\n",
      "\n",
      "Error in solvep (line 209)\n",
      "    [sol, s] = algo.algorithm(x_0, fg, Fp, sol, s, param);"
     ]
    }
   ],
   "source": [
    "% Résolution du problème Fused Lasso complet\n",
    "sol_fl = solvep(x0, {f1, f2, f3}, param); \n",
    "\n",
    "% Affichage final\n",
    "figure(2);\n",
    "plot(x_true, 'b', 'LineWidth', 2);\n",
    "hold on;\n",
    "plot(sol_fl, 'r--', 'LineWidth', 1.5);\n",
    "title('Résolution Fused Lasso par UNLocBoX');\n",
    "legend('Signal Vrai (x\\_true)', 'Solution Fused Lasso (sol\\_fl)');\n",
    "xlabel('Indice du Signal');\n",
    "ylabel('Valeur');\n",
    "grid on;\n",
    "\n",
    "disp('✅ Optimisation terminée. La solution est affichée.');"
   ]
  },
  {
   "cell_type": "markdown",
   "id": "24d86f1c-6844-4cec-a26a-7450850540fb",
   "metadata": {},
   "source": [
    "\n",
    "## 5\\. Algorithmes Spécifiques et Options Avancées\n",
    "\n",
    "UNLocBoX vous permet d'appeler directement des algorithmes pour un contrôle plus fin.\n",
    "\n",
    "### 5.1. Algorithme FISTA (*Fast Iterative Shrinkage-Thresholding Algorithm*) \n",
    "\n",
    "FISTA est l'implémentation accélérée du *Forward-Backward*. Il ne peut résoudre que $f_{\\text{lisse}} + f_{\\text{non-lisse}}$.\n",
    "\n",
    "Pour l'utiliser, nous devons grouper $f_2$ et $f_3$ dans un terme non-lisse unique $g(x) = f_2(x) + f_3(x)$, puis résoudre $\\min f_1(x) + g(x)$ avec `forward_backward`. Cependant, trouver le `prox` de $g(x)$ est un autre problème d'optimisation complexe (sauf cas spéciaux), ce qui justifie l'utilisation de **DR** ou **Chambolle-Pock** pour trois termes.\n",
    "\n",
    "### 5.2. Algorithme Douglas-Rachford (DR) \n",
    "\n",
    "DR est efficace pour résoudre $\\min f_{A}(x) + f_{B}(x)$, où $f_A$ et $f_B$ sont toutes deux non-lisses (ou lisses). Nous pouvons le forcer à résoudre $f_1(x) + (f_2(x)+f_3(x))$ en regroupant deux termes.\n"
   ]
  },
  {
   "cell_type": "code",
   "execution_count": 11,
   "id": "1bd988c8-f892-4cdc-bdc1-df397af25b88",
   "metadata": {},
   "outputs": [],
   "source": [
    "% Pour DR, nous allons résoudre : min (f1 + f2) + f3\n",
    "% Cette décomposition nécessite la somme des prox de f1 et f2.\n",
    "% Dans ce cas, il est plus simple de laisser solvep gérer les trois termes, \n",
    "% ou d'utiliser une fonction comme 'sum_prox' si elle est disponible.\n",
    "\n",
    "% Alternative : Utiliser DR pour résoudre min f1 + f2 (sans f3 pour l'exemple)\n",
    "% f1 est lisse, mais DR peut quand même la gérer en tant que prox.\n",
    "% param_dr = param;\n",
    "% param_dr.maxit = 500;\n",
    "% sol_dr = douglas_rachford(x0, f1, f2, param_dr);\n",
    "% disp('Résolu avec Douglas-Rachford (pour f1 + f2).');"
   ]
  },
  {
   "cell_type": "markdown",
   "id": "221295fc-5728-4868-b65e-1d2daa44f96e",
   "metadata": {},
   "source": [
    "## 6\\. Conclusion et Ressources \n",
    "\n",
    "Vous avez appris à :\n",
    "\n",
    "1.  Structurer des fonctions convexes (lisses ou non-lisses) pour UNLocBoX.\n",
    "2.  Utiliser les concepts clés de **gradient**, de **constante de Lipschitz** et d'**opérateur proximal**.\n",
    "3.  Résoudre un problème d'optimisation complexe (*Fused Lasso*) à trois termes à l'aide de la fonction générique `solvep`.\n",
    "\n",
    "UNLocBoX offre une flexibilité incroyable, permettant d'assembler des briques de fonctions comme des Legos pour créer des problèmes d'optimisation sur mesure. Référez-vous au guide utilisateur complet pour la liste des opérateurs proximaux disponibles (`prox_tv`, `prox_l2`, `prox_positive`, etc.) et des solveurs avancés (Chambolle-Pock, SDMM)."
   ]
  },
  {
   "cell_type": "code",
   "execution_count": null,
   "id": "6797090f-59d6-45d1-b4b6-8a941781b5e5",
   "metadata": {},
   "outputs": [],
   "source": []
  }
 ],
 "metadata": {
  "kernelspec": {
   "display_name": "MATLAB Kernel",
   "language": "matlab",
   "name": "jupyter_matlab_kernel"
  },
  "language_info": {
   "file_extension": ".m",
   "mimetype": "text/x-matlab",
   "name": "matlab"
  }
 },
 "nbformat": 4,
 "nbformat_minor": 5
}
